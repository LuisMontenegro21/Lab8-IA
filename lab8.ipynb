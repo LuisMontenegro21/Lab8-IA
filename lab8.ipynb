{
 "cells": [
  {
   "cell_type": "markdown",
   "metadata": {},
   "source": [
    "# CSP con Backtracking, Beam y Local Search\n",
    "# Condiciones del problema:\n",
    "### Se implementará 3 algoritmos diferentes de satisfacción de restricciones para resovler un problema de programación de exámenes para cuatro estudiantes que toman 7 exámenes diferentes. El problema implica calendarizar los exámenes para los estudiantes respetando diversas limitaciones y preferencias.\n",
    "- Todos los exámenes deberán realizarse en días diferentes, concretamente, de lunes a miércoles.\n",
    "- Ningún estudiante deberá tener más de un examen por día.\n",
    "- Los estudiantes que toman el mismo curso no pueden tener exámenes programados para el mismo día"
   ]
  },
  {
   "cell_type": "markdown",
   "metadata": {},
   "source": [
    "# Definición de variables y estructura del problema"
   ]
  },
  {
   "cell_type": "code",
   "execution_count": 19,
   "metadata": {},
   "outputs": [],
   "source": [
    "import random\n",
    "import time\n",
    "from constraint import Problem"
   ]
  },
  {
   "cell_type": "code",
   "execution_count": 20,
   "metadata": {},
   "outputs": [],
   "source": [
    "def setup_problem():\n",
    "    exams = ['exam1', 'exam2', 'exam3', 'exam4', 'exam5', 'exam6', 'exam7']\n",
    "    days = ['monday', 'tuesday', 'wednesday']\n",
    "    student_exams = {\n",
    "        'student1': ['exam1', 'exam2'],\n",
    "        'student2': ['exam3', 'exam4'],\n",
    "        'student3': ['exam5', 'exam6'],\n",
    "        'student4': ['exam7']\n",
    "    }\n",
    "\n",
    "    problem = Problem()\n",
    "\n",
    "    # Agregar las variables\n",
    "    for exam in exams:\n",
    "        problem.addVariable(exam, days)\n",
    "\n",
    "    # Definir las restricciones\n",
    "    for student, exams_list in student_exams.items():  # Cambio de nombre a exams_list\n",
    "        for exam1 in exams_list:\n",
    "            for exam2 in exams_list:\n",
    "                if exam1 != exam2:\n",
    "                    problem.addConstraint(lambda e1, e2: e1 != e2, (exam1, exam2))\n",
    "\n",
    "    return exams, days, student_exams, problem\n"
   ]
  },
  {
   "cell_type": "markdown",
   "metadata": {},
   "source": [
    "## Backtracking"
   ]
  },
  {
   "cell_type": "code",
   "execution_count": 21,
   "metadata": {},
   "outputs": [],
   "source": [
    "def backtracking_search(exams, days, student_exams):\n",
    "    problem = Problem()\n",
    "    for exam in exams:\n",
    "        problem.addVariable(exam, days)\n",
    "\n",
    "    for student, student_exams in student_exams.items():\n",
    "        for exam1 in student_exams:\n",
    "            for exam2 in student_exams:\n",
    "                if exam1 != exam2:\n",
    "                    problem.addConstraint(lambda e1, e2: e1 != e2, (exam1, exam2))\n",
    "\n",
    "    start_time = time.time()\n",
    "    solutions = problem.getSolutions()\n",
    "    end_time = time.time()\n",
    "    return solutions, end_time - start_time\n"
   ]
  },
  {
   "cell_type": "markdown",
   "metadata": {},
   "source": [
    "## Beam"
   ]
  },
  {
   "cell_type": "code",
   "execution_count": 22,
   "metadata": {},
   "outputs": [],
   "source": [
    "def beam_search(student_exams, exams, days, beam_width):\n",
    "    def is_valid_assignment(assignment, student_exams):\n",
    "        for student, exams in student_exams.items():\n",
    "            days = [assignment[exam] for exam in exams if exam in assignment]\n",
    "            if len(days) != len(set(days)):  # Check for duplicate days\n",
    "                return False\n",
    "        return True\n",
    "\n",
    "    def generate_successors(assignment, exams, days):\n",
    "        successors = []\n",
    "        day_usage = {day: sum(1 for d in assignment.values() if d == day) for day in days}\n",
    "\n",
    "        for exam in exams:\n",
    "            if exam not in assignment:\n",
    "                sorted_days = sorted(days, key=lambda day: day_usage[day])\n",
    "                for day in sorted_days:\n",
    "                    new_assignment = assignment.copy()\n",
    "                    new_assignment[exam] = day\n",
    "                    successors.append(new_assignment)\n",
    "                break\n",
    "        return successors\n",
    "\n",
    "    def heuristic(assignment, student_exams):\n",
    "        return sum(1 for exam, day in assignment.items() if is_valid_assignment({exam: day}, student_exams))\n",
    "\n",
    "    beam = [{}]\n",
    "    solutions = []\n",
    "\n",
    "    start_time = time.time()\n",
    "    while beam:\n",
    "        next_beam = []\n",
    "        for assignment in beam:\n",
    "            if len(assignment) == len(exams):\n",
    "                if is_valid_assignment(assignment, student_exams):\n",
    "                    solutions.append(assignment)\n",
    "            else:\n",
    "                successors = generate_successors(assignment, exams, days)\n",
    "                next_beam.extend(successors)\n",
    "\n",
    "        next_beam.sort(key=lambda a: heuristic(a, student_exams), reverse=True)\n",
    "        beam = next_beam[:beam_width]\n",
    "\n",
    "    end_time = time.time()\n",
    "    return solutions, end_time - start_time"
   ]
  },
  {
   "cell_type": "markdown",
   "metadata": {},
   "source": [
    "## Local Search"
   ]
  },
  {
   "cell_type": "code",
   "execution_count": 23,
   "metadata": {},
   "outputs": [],
   "source": [
    "def local_search(exams, days, student_exams, max_iter):\n",
    "    def generate_initial_solution():\n",
    "        solution = {}\n",
    "        for student, exams in student_exams.items():\n",
    "            for exam in exams:\n",
    "                while True:\n",
    "                    day = random.choice(days)\n",
    "                    if day not in solution.values():\n",
    "                        solution[exam] = day\n",
    "                        break\n",
    "        return solution\n",
    "\n",
    "    def generate_neighborhood(current_solution):\n",
    "        neighbors = []\n",
    "        for exam in exams:\n",
    "            for day in days:\n",
    "                if current_solution[exam] != day:\n",
    "                    neighbor = current_solution.copy()\n",
    "                    neighbor[exam] = day\n",
    "                    neighbors.append(neighbor)\n",
    "        return neighbors\n",
    "\n",
    "    def heuristic(solution):\n",
    "        conflicts = 0\n",
    "        for student, exams in student_exams.items():\n",
    "            days = [solution[exam] for exam in exams if exam in solution]\n",
    "            if len(days) != len(set(days)):\n",
    "                conflicts += 1\n",
    "        return -conflicts  # Negative because we want to minimize conflicts\n",
    "\n",
    "    def is_valid_neighbor(neighbor):\n",
    "        for student, exams in student_exams.items():\n",
    "            days = [neighbor[exam] for exam in exams if exam in neighbor]\n",
    "            if len(days) != len(set(days)):\n",
    "                return False\n",
    "        return True\n",
    "\n",
    "    current_solution = generate_initial_solution()\n",
    "    current_cost = heuristic(current_solution)\n",
    "    best_solution = current_solution.copy()\n",
    "    best_cost = current_cost\n",
    "\n",
    "    start_time = time.time()\n",
    "    for _ in range(max_iter):\n",
    "        neighbors = generate_neighborhood(current_solution)\n",
    "        random.shuffle(neighbors)\n",
    "        valid_neighbors = [neighbor for neighbor in neighbors if is_valid_neighbor(neighbor)]\n",
    "        if not valid_neighbors:\n",
    "            break\n",
    "        best_neighbor = max(valid_neighbors, key=heuristic)\n",
    "        best_neighbor_cost = heuristic(best_neighbor)\n",
    "        if best_neighbor_cost <= best_cost:\n",
    "            break\n",
    "        else:\n",
    "            current_solution = best_neighbor.copy()\n",
    "            current_cost = best_neighbor_cost\n",
    "            if current_cost > best_cost:\n",
    "                best_solution = current_solution.copy()\n",
    "                best_cost = current_cost\n",
    "\n",
    "    end_time = time.time()\n",
    "    return best_solution, end_time - start_time"
   ]
  },
  {
   "cell_type": "markdown",
   "metadata": {},
   "source": [
    "# Main"
   ]
  },
  {
   "cell_type": "code",
   "execution_count": 24,
   "metadata": {},
   "outputs": [],
   "source": [
    "exams, days, student_exams, problem = setup_problem()"
   ]
  },
  {
   "cell_type": "markdown",
   "metadata": {},
   "source": [
    "## BACKTRACING SEARCH"
   ]
  },
  {
   "cell_type": "code",
   "execution_count": 25,
   "metadata": {},
   "outputs": [
    {
     "ename": "AttributeError",
     "evalue": "'list' object has no attribute 'items'",
     "output_type": "error",
     "traceback": [
      "\u001b[1;31m---------------------------------------------------------------------------\u001b[0m",
      "\u001b[1;31mAttributeError\u001b[0m                            Traceback (most recent call last)",
      "Cell \u001b[1;32mIn[25], line 1\u001b[0m\n\u001b[1;32m----> 1\u001b[0m backtracking_solutions, backtracking_time \u001b[38;5;241m=\u001b[39m \u001b[43mbacktracking_search\u001b[49m\u001b[43m(\u001b[49m\u001b[43mexams\u001b[49m\u001b[43m,\u001b[49m\u001b[43m \u001b[49m\u001b[43mdays\u001b[49m\u001b[43m,\u001b[49m\u001b[43m \u001b[49m\u001b[43mstudent_exams\u001b[49m\u001b[43m)\u001b[49m\n\u001b[0;32m      2\u001b[0m \u001b[38;5;28mprint\u001b[39m(\u001b[38;5;124m\"\u001b[39m\u001b[38;5;124mSoluciones de Backtracking Search:\u001b[39m\u001b[38;5;124m\"\u001b[39m)\n\u001b[0;32m      3\u001b[0m \u001b[38;5;28;01mfor\u001b[39;00m solution \u001b[38;5;129;01min\u001b[39;00m backtracking_solutions:\n",
      "Cell \u001b[1;32mIn[21], line 6\u001b[0m, in \u001b[0;36mbacktracking_search\u001b[1;34m(exams, days, student_exams)\u001b[0m\n\u001b[0;32m      3\u001b[0m \u001b[38;5;28;01mfor\u001b[39;00m exam \u001b[38;5;129;01min\u001b[39;00m exams:\n\u001b[0;32m      4\u001b[0m     problem\u001b[38;5;241m.\u001b[39maddVariable(exam, days)\n\u001b[1;32m----> 6\u001b[0m \u001b[38;5;28;01mfor\u001b[39;00m student, student_exams \u001b[38;5;129;01min\u001b[39;00m \u001b[43mstudent_exams\u001b[49m\u001b[38;5;241;43m.\u001b[39;49m\u001b[43mitems\u001b[49m():\n\u001b[0;32m      7\u001b[0m     \u001b[38;5;28;01mfor\u001b[39;00m exam1 \u001b[38;5;129;01min\u001b[39;00m student_exams:\n\u001b[0;32m      8\u001b[0m         \u001b[38;5;28;01mfor\u001b[39;00m exam2 \u001b[38;5;129;01min\u001b[39;00m student_exams:\n",
      "\u001b[1;31mAttributeError\u001b[0m: 'list' object has no attribute 'items'"
     ]
    }
   ],
   "source": [
    "backtracking_solutions, backtracking_time = backtracking_search(exams, days, student_exams)\n",
    "print(\"Soluciones de Backtracking Search:\")\n",
    "for solution in backtracking_solutions:\n",
    "    print(\"Alumno - Examen - Día:\")\n",
    "    for exam, day in solution.items():\n",
    "        print(f\"{[student for student, exams in student_exams.items() if exam in exams][0]} - {exam} - {day}\")\n",
    "    print()\n",
    "print(f\"Tiempo de ejecución de Backtracking Search: {backtracking_time} segundos\\n\")"
   ]
  },
  {
   "cell_type": "code",
   "execution_count": null,
   "metadata": {},
   "outputs": [
    {
     "ename": "AttributeError",
     "evalue": "'list' object has no attribute 'items'",
     "output_type": "error",
     "traceback": [
      "\u001b[1;31m---------------------------------------------------------------------------\u001b[0m\n",
      "\u001b[1;31mAttributeError\u001b[0m                            Traceback (most recent call last)\n",
      "Cell \u001b[1;32mIn[25], line 1\u001b[0m\n",
      "\u001b[1;32m----> 1\u001b[0m backtracking_solutions, backtracking_time \u001b[38;5;241m=\u001b[39m \u001b[43mbacktracking_search\u001b[49m\u001b[43m(\u001b[49m\u001b[43mexams\u001b[49m\u001b[43m,\u001b[49m\u001b[43m \u001b[49m\u001b[43mdays\u001b[49m\u001b[43m,\u001b[49m\u001b[43m \u001b[49m\u001b[43mstudent_exams\u001b[49m\u001b[43m)\u001b[49m\n",
      "\u001b[0;32m      2\u001b[0m \u001b[38;5;28mprint\u001b[39m(\u001b[38;5;124m\"\u001b[39m\u001b[38;5;124mSoluciones de Backtracking Search:\u001b[39m\u001b[38;5;124m\"\u001b[39m)\n",
      "\u001b[0;32m      3\u001b[0m \u001b[38;5;28;01mfor\u001b[39;00m solution \u001b[38;5;129;01min\u001b[39;00m backtracking_solutions:\n",
      "\n",
      "Cell \u001b[1;32mIn[21], line 6\u001b[0m, in \u001b[0;36mbacktracking_search\u001b[1;34m(exams, days, student_exams)\u001b[0m\n",
      "\u001b[0;32m      3\u001b[0m \u001b[38;5;28;01mfor\u001b[39;00m exam \u001b[38;5;129;01min\u001b[39;00m exams:\n",
      "\u001b[0;32m      4\u001b[0m     problem\u001b[38;5;241m.\u001b[39maddVariable(exam, days)\n",
      "\u001b[1;32m----> 6\u001b[0m \u001b[38;5;28;01mfor\u001b[39;00m student, student_exams \u001b[38;5;129;01min\u001b[39;00m \u001b[43mstudent_exams\u001b[49m\u001b[38;5;241;43m.\u001b[39;49m\u001b[43mitems\u001b[49m():\n",
      "\u001b[0;32m      7\u001b[0m     \u001b[38;5;28;01mfor\u001b[39;00m exam1 \u001b[38;5;129;01min\u001b[39;00m student_exams:\n",
      "\u001b[0;32m      8\u001b[0m         \u001b[38;5;28;01mfor\u001b[39;00m exam2 \u001b[38;5;129;01min\u001b[39;00m student_exams:\n",
      "\n",
      "\u001b[1;31mAttributeError\u001b[0m: 'list' object has no attribute 'items'"
     ]
    }
   ],
   "source": [
    "backtracking_solutions, backtracking_time = backtracking_search(exams, days, student_exams)\n",
    "print(\"Soluciones de Backtracking Search:\")\n",
    "for solution in backtracking_solutions:\n",
    "    print(\"Alumno - Examen - Día:\")\n",
    "    for exam, day in solution.items():\n",
    "        print(f\"{[student for student, exams in student_exams.items() if exam in exams][0]} - {exam} - {day}\")\n",
    "    print()\n",
    "print(f\"Tiempo de ejecución de Backtracking Search: {backtracking_time} segundos\\n\")"
   ]
  },
  {
   "cell_type": "markdown",
   "metadata": {},
   "source": [
    "## BEAM"
   ]
  },
  {
   "cell_type": "code",
   "execution_count": null,
   "metadata": {},
   "outputs": [],
   "source": [
    "beam_width = 3\n",
    "beam_solutions, beam_time = beam_search(student_exams, exams, days, beam_width)\n",
    "print(\"Soluciones de Beam Search:\")\n",
    "for solution in beam_solutions:\n",
    "    print(\"Alumno - Examen - Día:\")\n",
    "    for exam, day in solution.items():\n",
    "        print(f\"{[student for student, exams in student_exams.items() if exam in exams][0]} - {exam} - {day}\")\n",
    "    print()\n",
    "print(f\"Tiempo de ejecución de Beam Search: {beam_time} segundos\\n\")"
   ]
  },
  {
   "cell_type": "markdown",
   "metadata": {},
   "source": [
    "## LOCAL SEARCH"
   ]
  },
  {
   "cell_type": "code",
   "execution_count": null,
   "metadata": {},
   "outputs": [],
   "source": [
    "max_iter = 1000\n",
    "local_search_solution, local_search_time = local_search(exams, days, student_exams, max_iter)\n",
    "print(\"Soluciones de Local Search:\")\n",
    "print(\"Alumno - Examen - Día:\")\n",
    "for exam, day in local_search_solution.items():\n",
    "    print(f\"{[student for student, exams in student_exams.items() if exam in exams][0]} - {exam} - {day}\")\n",
    "print(f\"Tiempo de ejecución de Local Search: {local_search_time} segundos\\n\")"
   ]
  }
 ],
 "metadata": {
  "kernelspec": {
   "display_name": "Python 3",
   "language": "python",
   "name": "python3"
  },
  "language_info": {
   "codemirror_mode": {
    "name": "ipython",
    "version": 3
   },
   "file_extension": ".py",
   "mimetype": "text/x-python",
   "name": "python",
   "nbconvert_exporter": "python",
   "pygments_lexer": "ipython3",
   "version": "3.12.1"
  }
 },
 "nbformat": 4,
 "nbformat_minor": 2
}
