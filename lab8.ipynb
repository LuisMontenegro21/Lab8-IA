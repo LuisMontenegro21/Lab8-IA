{
 "cells": [
  {
   "cell_type": "markdown",
   "metadata": {},
   "source": [
    "# CSP con Backtracking, Beam y Local Search\n",
    "# Condiciones del problema:\n",
    "### Se implementará 3 algoritmos diferentes de satisfacción de restricciones para resovler un problema de programación de exámenes para cuatro estudiantes que toman 7 exámenes diferentes. El problema implica calendarizar los exámenes para los estudiantes respetando diversas limitaciones y preferencias.\n",
    "- Todos los exámenes deberán realizarse en días diferentes, concretamente, de lunes a miércoles.\n",
    "- Ningún estudiante deberá tener más de un examen por día.\n",
    "- Los estudiantes que toman el mismo curso no pueden tener exámenes programados para el mismo día"
   ]
  },
  {
   "cell_type": "markdown",
   "metadata": {},
   "source": [
    "# Definición de variables y estructura del problema"
   ]
  },
  {
   "cell_type": "code",
   "execution_count": 1,
   "metadata": {},
   "outputs": [],
   "source": [
    "\n",
    "from constraint import Problem\n",
    "\n",
    "# crear las variables a usar\n",
    "exams = ['exam1', 'exam2', 'exam3', 'exam4', 'exam5', 'exam6', 'exam7']\n",
    "days = ['monday', 'tuesday', 'wednesday']\n",
    "\n",
    "# crear instancia del problema CSP\n",
    "problem = Problem()\n",
    "\n",
    "# agregar las variables \n",
    "for exam in exams:\n",
    "    problem.addVariable(exam, days)\n",
    "\n",
    "# definimos por ejemplo, los exámenes de cada alumno\n",
    "student_exams = {\n",
    "    'student1': ['exam1', 'exam2'],\n",
    "    'student2': ['exam3', 'exam4'],\n",
    "    'student3': ['exam5', 'exam6'],\n",
    "    'student4': ['exam7']\n",
    "}\n",
    "\n",
    "# definimos las condiciones \n",
    "for student, exams in student_exams.items():\n",
    "    for i in range(len(exams)):\n",
    "        for j in range(i + 1, len(exams)):\n",
    "            # verificamos que los exámenes no sean el mismo \n",
    "            problem.addConstraint(lambda x, y: x != y, (exams[i], exams[j]))\n"
   ]
  }
 ],
 "metadata": {
  "kernelspec": {
   "display_name": "Python 3",
   "language": "python",
   "name": "python3"
  },
  "language_info": {
   "codemirror_mode": {
    "name": "ipython",
    "version": 3
   },
   "file_extension": ".py",
   "mimetype": "text/x-python",
   "name": "python",
   "nbconvert_exporter": "python",
   "pygments_lexer": "ipython3",
   "version": "3.11.5"
  }
 },
 "nbformat": 4,
 "nbformat_minor": 2
}
